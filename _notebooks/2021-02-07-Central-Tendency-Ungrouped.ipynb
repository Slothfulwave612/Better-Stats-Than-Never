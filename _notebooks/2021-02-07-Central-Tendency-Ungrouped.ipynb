{
 "cells": [
  {
   "cell_type": "markdown",
   "metadata": {},
   "source": [
    "# \"Tutorial 09: Measure of Central Tendency: Ungrouped Data\"\n",
    "> \"Central Tendency for Ungrouped Data\"\n",
    "\n",
    "- toc: true \n",
    "- badges: true\n",
    "- comments: true\n",
    "- categories: [basic-stats]\n",
    "- sticky_rank: 9\n",
    "- search_exclude: true\n",
    "- hide: true"
   ]
  },
  {
   "cell_type": "code",
   "execution_count": 1,
   "metadata": {},
   "outputs": [
    {
     "data": {
      "text/html": [
       "<style>\n",
       ".output {\n",
       "  margin-left:20;\n",
       "}\n",
       "</style>"
      ],
      "text/plain": [
       "<IPython.core.display.HTML object>"
      ]
     },
     "execution_count": 1,
     "metadata": {},
     "output_type": "execute_result"
    }
   ],
   "source": [
    "#collapse-hide\n",
    "## required packages/modules\n",
    "import numpy as np\n",
    "import matplotlib.pyplot as plt\n",
    "from matplotlib import rcParams\n",
    "from IPython.display import display, HTML\n",
    "\n",
    "## default font style\n",
    "rcParams[\"font.family\"] = \"serif\"\n",
    "\n",
    "## format output\n",
    "CSS = \"\"\"\n",
    ".output {\n",
    "  margin-left:20;\n",
    "}\n",
    "\"\"\"\n",
    "\n",
    "HTML('<style>{}</style>'.format(CSS))"
   ]
  },
  {
   "cell_type": "markdown",
   "metadata": {},
   "source": [
    "# Introduction \n",
    "\n",
    "* A **measure of central tendency** is a summary statistic that represents the centre value of a dataset.\n",
    "\n",
    "* These measures indicate where most values in a distribution fall. In statistics, the three most common measures of central tendency are:\n",
    "<ol>\n",
    "    <li>Mean</li>\n",
    "    <li>Median</li>\n",
    "    <li>Mode</li>\n",
    "</ol>\n",
    "\n",
    "* If we have a dataset of test scores for a particular class, the measures of central tendency can yield information such as *the average test-score*, *the middle test-score*, and *the most frequently occurring test-score*.\n",
    "\n",
    "> Note: Measures of central tendency do not focus on the span of the dataset or how far values are from the middle numbers. The central tendency of a distribution represents only one characteristic of a distribution i.e. the center value."
   ]
  },
  {
   "cell_type": "markdown",
   "metadata": {},
   "source": [
    "# Mean\n",
    "\n",
    "* The **mean** is the *arithmetic average of a group of observations* (or numbers).\n",
    "\n",
    "* It is computed by summing all the observations and dividing by the total number of observations.\n",
    "\n",
    "* The population mean is represented by the Greek letter mu ($\\mu$), and the sample mean is represented by $\\overline{x}$.\n",
    "\n",
    "* The formulae for computing the population mean and the sample mean are given below:\n",
    "    \n",
    "    * Population Mean: $\\mu = \\frac{\\Sigma x}{N} = \\frac{x_{1} + x_{2} + x_{3} + .. + x_{N}}{N}$\n",
    "    \n",
    "    * Sample Mean: $\\overline{x} = \\frac{\\Sigma x}{n} = \\frac{x_{1} + x_{2} + x_{3} + .. + x_{n}}{n}$\n",
    "    \n",
    "* Let's break down the formulae:\n",
    "    \n",
    "    * The capital Greek letter *sigma* (\\Sigma) is commonly used in mathematics to represent a summation of all the numbers in a grouping. \n",
    "\n",
    "    * *N* is the number of observations in the population, and *n* is the number of observation in the sample.\n",
    "\n",
    "## Example\n",
    "\n",
    "**Example 01:** The number of U.S. cars in service by top car rental companies in a recent year according to Auto Rental News follows.\n",
    "\n",
    "|Company|Number of Cars in Service|\n",
    "|:-|-:|\n",
    "|Enterprise|643,000|\n",
    "|Hertz|327,000|\n",
    "|National/Alamo|233,000|\n",
    "|Avis|204,000|\n",
    "|Dollar/Thrifty|167,000|\n",
    "|Budget|144,000|\n",
    "|Advantage|20,000|\n",
    "|U-Save|12,000|\n",
    "|Payless|10,000|\n",
    "|ACE|9,000|\n",
    "|Fox|9,000|\n",
    "|Rent-A-Wreck|7,000|\n",
    "|Triangle|6,000|\n",
    "\n",
    "Compute the mean.\n",
    "\n",
    "* **Solution:**\n",
    "\n",
    "Here we have a total of 12 observations, so *N=13*. \n",
    "\n",
    "$\\mu = $ $\\frac{643000 + 327000 + 233000 + 204000 + 167000 + 144000 + 20000 + 12000 + 10000 + 9000 + 9000 + 7000 + 6000}{13}$ \n",
    "\n",
    "$\\mu = $ $\\frac{1791000}{13}$ = $137769.23$\n",
    "\n",
    "* Let's look how we can do the same in Python."
   ]
  },
  {
   "cell_type": "code",
   "execution_count": 6,
   "metadata": {},
   "outputs": [
    {
     "name": "stdout",
     "output_type": "stream",
     "text": [
      "Mean = 137769.23\n"
     ]
    }
   ],
   "source": [
    "#collapse-hide\n",
    "mean_ = np.mean(\n",
    "    a=[\n",
    "        643000, 327000, 233000, 204000, 167000, 144000, \n",
    "        20000, 12000, 10000, 9000, 9000, 7000, 6000\n",
    "    ]\n",
    ")\n",
    "\n",
    "print(f\"Mean = {round(mean_, 2)}\")"
   ]
  },
  {
   "cell_type": "markdown",
   "metadata": {},
   "source": [
    "## Properties of Mean\n",
    "\n",
    "* **Property 01:** In a distribution, *minimum-value* $\\leq$ *mean* $\\leq$ *maximum-value*\n",
    "\n",
    "* **Property 02:** Mean of *equal valued* elements is equal to the element value.\n",
    "    \n",
    "    * e.g. if we have the following distribution: 10, 10, 10. The mean will be equal to $\\frac{10 + 10 + 10}{3} = 10$ which is equal to the element value itself, i.e. 10\n",
    "    \n",
    "* **Property 03:** Given the mean ($\\mu$) and total number of observation ($N$) of a distribution, we can find the total sum of all the numbers in the distribution by using the following formula.\n",
    "    \n",
    "    * $\\Sigma x = \\mu * N$\n",
    "    \n",
    "* **Property 04:** If a distribution $x_{1}$, $x_{2}$, $x_{3}$, ..., $x_{N}$ has $\\mu$ as its mean and we increment each number in the distribution by a value $k$, the mean of the new distribution will be $\\mu + k$.\n",
    "    \n",
    "    * e.g. Let's say we have the following distribution: 7, 3, 5, 2, 9, 4, 1, 2, 3.\n",
    "    \n",
    "    * The mean ($\\mu_{1}$) $= \\frac{7 + 3 + 5 + 2 + 9 + 4 + 1 + 2 + 3}{9} = 4$\n",
    "    \n",
    "    * If we increment each number in the above distribution by *k=2*. The new distribution becomes: 9, 5, 7, 4, 11, 6, 3, 4, 5.\n",
    "    \n",
    "    * The mean of new distribution ($\\mu_{2}$) $= \\frac{9 + 5 + 7 + 4 + 11 + 6 + 3 + 4 + 5}{9} = 6$\n",
    "    \n",
    "    * Or it can be easily calculated by the formula in *Property 03*. \n",
    "        \n",
    "        * So, $\\mu_{2} = \\mu_{1} + k = 4 + 2 = 6$\n",
    "        \n",
    "* **Property 05:** If a distribution $x_{1}$, $x_{2}$, $x_{3}$, ..., $x_{N}$ has $\\mu$ as its mean and we multiply each number in the distribution by a value $k$, the mean of the new distribution will be $\\mu * k$.\n",
    "    \n",
    "    * e.g. Let's say we have the following distribution: 7, 3, 5, 2, 9, 4, 1, 2, 3.\n",
    "    \n",
    "    * The mean ($\\mu_{1}$) $= \\frac{7 + 3 + 5 + 2 + 9 + 4 + 1 + 2 + 3}{9} = 4$\n",
    "    \n",
    "    * If we multiply each number in the above distribution by *k=2*. The new distribution becomes: 14, 6, 10, 4, 18, 8, 2, 4, 6.\n",
    "    \n",
    "    * The mean of new distribution ($\\mu_{2}$) $= \\frac{14 + 6 + 10 + 4 + 18 + 8 + 2 + 4 + 6}{9} = 8$\n",
    "    \n",
    "    * Or it can be easily calculated by the formula in *Property 04*. \n",
    "        \n",
    "        * So, $\\mu_{2} = \\mu_{1} * k = 4 * 2 = 8$\n",
    "        \n",
    "* **Property 06:** If we have two distribution, first having *N* elements and a mean of $\\mu_{N}$, and second having *M* elements and a mean of $\\mu_{M}$, then the mean of $M + N$ elements is:\n",
    "    \n",
    "    * $\\mu_{N + M} = \\frac{(N * \\mu_{N}) + (M * \\mu_{M})}{N + M}$\n",
    "    \n",
    "    * e.g. Let's say our first distribution (N=9) looks like this: 7, 3, 5, 2, 9, 4, 1, 2, 3. ($\\mu_{N} = 4$)\n",
    "    \n",
    "    * And our second distribution (M=7) looks like this: 4, 6, 5, 4, 1, 3, 2. ($\\mu_{M} = 3.57$)\n",
    "    \n",
    "    * To calculate the mean for both the distribution combined we can use the above formula.\n",
    "    \n",
    "    * $\\mu_{N + M} = \\frac{(9 * 4) + (7 * 3.57)}{9 + 7} = 3.81$\n",
    "    \n",
    "* **Property 07:** If in a given distribution with a mean value $\\mu$, we add a new number greater than the mean-value ($\\mu$), then our mean will increase otherwise it will decrease. The new mean can be calculated by the following formula.\n",
    "\n",
    "    * $\\mu_{new} = \\mu + \\frac{x_{N + 1} - \\mu}{N + 1}$, where $x_{N + 1}$ is the newly added number.\n",
    "\n",
    "    * e.g. Let's say we have the following distribution: 7, 3, 5, 2, 9, 4, 1, 2, 3. The mean of this given distribution is 4.\n",
    "    \n",
    "    * **Case 01:** If we add a number, to this distribution, which is greater than the mean itself then the new mean will increase. Let's say we added 6 to this distribution. Now the new mean can be calculate by the above formula.\n",
    "    \n",
    "        * $\\mu_{new} = 4 + \\frac{6 - 4}{10} = 4.2$\n",
    "    \n",
    "        * 4.2 is the new mean when 6 is added to the distribution and since 6 is greater than the original mean value (which is 4), our new mean(4.2) has increased.\n",
    "\n",
    "    * **Case 02:** If we add a number, to the original distribution, which is smaller than the mean itself then the new mean will decrease. Let's say we added 2 to the original distribution. Now the new mean can be calculate by the above given formula.\n",
    "        \n",
    "        * $\\mu_{new} = 4 + \\frac{2 - 4}{10} = 3.8$\n",
    "    \n",
    "        * 3.8 is the new mean when 2 is added to the original distribution and since 2 is smaller than the original mean value (which is 4), our new mean(3.8) has decreased.\n",
    "        \n",
    "    * **Case 03:** If we add a number, to the original distribution, which is equal to the mean itself then the mean remains the same. Let's say we added 4 to the original distribution. Now the new mean can be calculate by the above given formula.\n",
    "        \n",
    "        * $\\mu_{new} = 4 + \\frac{4 - 4}{10} = 4$\n",
    "    \n",
    "        * 4 is the new mean when 4 is added to the original distribution and since 4 is equal to the original mean value, our mean value remains the same.\n",
    "\n",
    "* **Property 08:** If in a given distribution with a mean value $\\mu$, we remove a number from the distribution which is greater than the mean-value ($\\mu$), then our new mean will decrease otherwise it will increase. The new mean can be calculated by the following formula.\n",
    "\n",
    "    * $\\mu_{new} = \\frac{(\\mu * N) - k}{N - 1}$, where $N$ is total number of observation in the original distribution and $k$ is the number removed from the distribution."
   ]
  },
  {
   "cell_type": "code",
   "execution_count": 38,
   "metadata": {},
   "outputs": [
    {
     "data": {
      "text/plain": [
       "4.125"
      ]
     },
     "execution_count": 38,
     "metadata": {},
     "output_type": "execute_result"
    }
   ],
   "source": [
    "np.mean(\n",
    "    [7, 3, 5, 2, 9, 4, 1, 2]\n",
    ")"
   ]
  }
 ],
 "metadata": {
  "kernelspec": {
   "display_name": "Python 3",
   "language": "python",
   "name": "python3"
  },
  "language_info": {
   "codemirror_mode": {
    "name": "ipython",
    "version": 3
   },
   "file_extension": ".py",
   "mimetype": "text/x-python",
   "name": "python",
   "nbconvert_exporter": "python",
   "pygments_lexer": "ipython3",
   "version": "3.7.7"
  }
 },
 "nbformat": 4,
 "nbformat_minor": 4
}
