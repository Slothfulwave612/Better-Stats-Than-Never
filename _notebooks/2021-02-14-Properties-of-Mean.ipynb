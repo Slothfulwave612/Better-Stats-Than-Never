{
 "cells": [
  {
   "cell_type": "markdown",
   "metadata": {},
   "source": [
    "# \"Tutorial 10: Properties of Mean\"\n",
    "> \"Discussing nine properties of mean.\"\n",
    "\n",
    "- toc: true \n",
    "- badges: true\n",
    "- comments: true\n",
    "- categories: [descriptive-stats]\n",
    "- sticky_rank: 10"
   ]
  },
  {
   "cell_type": "markdown",
   "metadata": {},
   "source": [
    "# Basic Properties\n",
    "\n",
    "* **Property 01:** In a dataset, the mean is located between the extreme values i.e. *minimum-value* $\\leq$ *mean* $\\leq$ *maximum-value*\n",
    "\n",
    "* **Property 02:** Mean of *equal valued* elements is equal to the element value.\n",
    "    \n",
    "    * e.g. if we have the following numbers: 10, 10, 10. The mean will be equal to $\\frac{10 + 10 + 10}{3} = 10$ which is equal to the element value itself, i.e. 10\n",
    "    \n",
    "* **Property 03:** Given the mean ($\\mu$) and total number of observation ($N$) of a dataset, we can find the total sum of all the numbers in the dataset by using the following formula.\n",
    "    \n",
    "    * $\\Sigma x = \\mu * N$\n",
    "    \n",
    "    * e.g. Let's say we have a dataset having mean($\\mu$) = 4 and total number of observations(N) = 9, to compute the sum of all the numbers in the dataset use the above formula.\n",
    "    \n",
    "    * $\\Sigma x = \\mu * N = 4 * 9 = 36$"
   ]
  },
  {
   "cell_type": "markdown",
   "metadata": {},
   "source": [
    "# Addition and Multiplication\n",
    "\n",
    "* **Property 04:** If a dataset $x_{1}$, $x_{2}$, $x_{3}$, ..., $x_{N}$ has $\\mu$ as its mean and we increment each number in the dataset by a value $k$, the mean of the new dataset will be $\\mu + k$.\n",
    "    \n",
    "    * e.g. Let's say we have the following dataset: 7, 3, 5, 2, 9, 4, 1, 2, 3.\n",
    "    \n",
    "    * The mean ($\\mu_{1}$) $= \\frac{7 + 3 + 5 + 2 + 9 + 4 + 1 + 2 + 3}{9} = 4$\n",
    "    \n",
    "    * If we increment each number in the above dataset by *k=2*. The new dataset becomes: 9, 5, 7, 4, 11, 6, 3, 4, 5.\n",
    "    \n",
    "    * The mean of new dataset ($\\mu_{2}$) $= \\frac{9 + 5 + 7 + 4 + 11 + 6 + 3 + 4 + 5}{9} = 6$\n",
    "    \n",
    "    * Or it can be easily calculated by the formula in *Property 03*. \n",
    "        \n",
    "        * So, $\\mu_{2} = \\mu_{1} + k = 4 + 2 = 6$\n",
    "        \n",
    "* **Property 05:** If a dataset $x_{1}$, $x_{2}$, $x_{3}$, ..., $x_{N}$ has $\\mu$ as its mean and we multiply each number in the dataset by a value $k$, the mean of the new dataset will be $\\mu * k$.\n",
    "    \n",
    "    * e.g. Let's say we have the following dataset: 7, 3, 5, 2, 9, 4, 1, 2, 3.\n",
    "    \n",
    "    * The mean ($\\mu_{1}$) $= \\frac{7 + 3 + 5 + 2 + 9 + 4 + 1 + 2 + 3}{9} = 4$\n",
    "    \n",
    "    * If we multiply each number in the above dataset by *k=2*. The new dataset becomes: 14, 6, 10, 4, 18, 8, 2, 4, 6.\n",
    "    \n",
    "    * The mean of new dataset ($\\mu_{2}$) $= \\frac{14 + 6 + 10 + 4 + 18 + 8 + 2 + 4 + 6}{9} = 8$\n",
    "    \n",
    "    * Or it can be easily calculated by the formula in *Property 04*. \n",
    "        \n",
    "        * So, $\\mu_{2} = \\mu_{1} * k = 4 * 2 = 8$"
   ]
  },
  {
   "cell_type": "markdown",
   "metadata": {},
   "source": [
    "# Mean of Two Dataset\n",
    "\n",
    "* **Property 06:** If we have two dataset, first having *N* elements and a mean of $\\mu_{N}$, and second having *M* elements and a mean of $\\mu_{M}$, then the mean of $M + N$ elements is:\n",
    "    \n",
    "    * $\\mu_{N + M} = \\frac{(N * \\mu_{N}) + (M * \\mu_{M})}{N + M}$\n",
    "    \n",
    "    * e.g. Let's say our first dataset (N=9) looks like this: 7, 3, 5, 2, 9, 4, 1, 2, 3. ($\\mu_{N} = 4$)\n",
    "    \n",
    "    * And our second dataset (M=7) looks like this: 4, 6, 5, 4, 1, 3, 2. ($\\mu_{M} = 3.57$)\n",
    "    \n",
    "    * To calculate the mean for both the dataset combined we can use the above formula.\n",
    "    \n",
    "    * $\\mu_{N + M} = \\frac{(9 * 4) + (7 * 3.57)}{9 + 7} = 3.81$"
   ]
  },
  {
   "cell_type": "markdown",
   "metadata": {},
   "source": [
    "# Insertion and Deletion\n",
    "\n",
    "* **Property 07:** If in a given dataset with a mean value $\\mu$, we add a new number greater than the mean-value ($\\mu$), then our mean will increase otherwise it will decrease. The new mean can be calculated by the following formula.\n",
    "\n",
    "    * $\\mu_{new} = \\mu + \\frac{x_{N + 1} - \\mu}{N + 1}$, where $x_{N + 1}$ is the newly added number.\n",
    "\n",
    "    * e.g. Let's say we have the following dataset: 7, 3, 5, 2, 9, 4, 1, 2, 3. The mean of this given dataset is 4.\n",
    "    \n",
    "    * **Case 01:** If we add a number, to this dataset, which is greater then the mean itself then the new mean will increase. Let's say we added 6 to this dataset. Now the new mean can be calculate by the above formula.\n",
    "    \n",
    "        * $\\mu_{new} = 4 + \\frac{6 - 4}{10} = 4.2$\n",
    "    \n",
    "        * 4.2 is the new mean when 6 is added to the dataset and since 6 is greater than the original mean value (which is 4), our new mean(4.2) has increased.\n",
    "\n",
    "    * **Case 02:** If we add a number, to the original dataset, which is smaller than the mean itself then the new mean will decrease. Let's say we added 2 to the original dataset. Now the new mean can be calculate by the above given formula.\n",
    "        \n",
    "        * $\\mu_{new} = 4 + \\frac{2 - 4}{10} = 3.8$\n",
    "    \n",
    "        * 3.8 is the new mean when 2 is added to the original dataset and since 2 is smaller than the original mean value (which is 4), our new mean(3.8) has decreased.\n",
    "        \n",
    "    * **Case 03:** If we add a number, to the original dataset, which is equal to the mean itself then the mean remains the same. Let's say we added 4 to the original dataset. Now the new mean can be calculate by the above given formula.\n",
    "        \n",
    "        * $\\mu_{new} = 4 + \\frac{4 - 4}{10} = 4$\n",
    "    \n",
    "        * 4 is the new mean when 4 is added to the original dataset and since 4 is equal to the original mean value, our mean value remains the same.\n",
    "\n",
    "* **Property 08:** If in a given dataset with a mean value $\\mu$, we remove a number from the dataset which is greater than the mean-value ($\\mu$), then our new mean will decrease otherwise it will increase. The new mean can be calculated by the following formula.\n",
    "\n",
    "    * $\\mu_{new} = \\frac{(\\mu * N) - k}{N - 1}$, where $N$ is total number of observation in the original dataset and $k$ is the number removed from the dataset.\n",
    "    \n",
    "    * e.g. Let's say we have the following dataset: 7, 3, 5, 2, 9, 4, 1, 2, 3. The mean of this given dataset is 4.\n",
    "    \n",
    "    * **Case 01:** If we remove a number from the original dataset which is greater than the mean-value, then our new mean will decrease. Let's say we removed 7 from the original dataset, the new mean will be calculated by the above formula.\n",
    "        \n",
    "        * $\\mu_{new} = \\frac{(4 * 9) - 7}{9 - 1} = \\frac{29}{8} = 3.625$\n",
    "        \n",
    "        * 3.625 is the new mean and is smaller than the original mean value (which is 4).\n",
    "        \n",
    "    * **Case 02:** If we remove a number from the original dataset which is smaller than the mean-value, then our new mean will increase. Let's say we removed 3 from the original dataset, the new mean will be calculated by the above formula.\n",
    "        \n",
    "        * $\\mu_{new} = \\frac{(4 * 9) - 3}{9 - 1} = \\frac{33}{8} = 4.125$\n",
    "        \n",
    "        * 4.125 is the new mean and is greater than the original mean value (which is 4).\n",
    "\n",
    "    * **Case 03:** If we remove a number from the original dataset which is equal to the mean-value, then our new mean will remain the same. Let's say we removed 4 from the original dataset, the new mean will be calculated by the above formula.\n",
    "        \n",
    "        * $\\mu_{new} = \\frac{(4 * 9) - 4}{9 - 1} = \\frac{32}{8} = 4$\n",
    "        \n",
    "        * 4 is the new mean and is equal to the original mean value."
   ]
  },
  {
   "cell_type": "markdown",
   "metadata": {},
   "source": [
    "# Replacement\n",
    "\n",
    "* **Property 09:** If we replace a number in the dataset by a larger number then the new-mean will increase, and if we replace the number by a smaller number then the new-mean will decrease. The new men can be calculated by the following formula.\n",
    "    \n",
    "    * $\\mu_{new} = \\mu + \\frac{k - o}{N}$, where *k* is the new number and *o* is the original number which is replaced by the new number *k*.\n",
    "    \n",
    "    * e.g. Let's say we have the following dataset: 7, 3, 5, 2, 9, 4, 1, 2, 3. The mean of this given dataset is 4.\n",
    "    \n",
    "    * **Case 01:** If we replace the number in the dataset by a larger number then the average will increase. Let's say we replace number *5* by the number *7*. The new dataset will look like this: 7, 3, 7, 2, 9, 4, 1, 2, 3.\n",
    "        \n",
    "        * The mean of the new dataset can be calculated by using the above given formula, here $k=7$ and $o=5$.\n",
    "        \n",
    "        * $\\mu_{new} = 4 + \\frac{7 - 5}{9} = 4.22$\n",
    "        \n",
    "    * **Case 02:** If we replace the number in the dataset by a smaller number then the average will decrease. Let's say we replace number *5* by the number *3*. The new dataset will look like this: 7, 3, 3, 2, 9, 4, 1, 2, 3.\n",
    "        \n",
    "        * The mean of the new dataset can be calculated by using the above given formula, here $k=3$ and $o=5$.\n",
    "        \n",
    "        * $\\mu_{new} = 4 + \\frac{3 - 5}{9} = 3.77$ "
   ]
  },
  {
   "cell_type": "markdown",
   "metadata": {},
   "source": [
    "# Example\n",
    "\n",
    "**Example 01:** In your college team the mean weight of 11 players is 60 kg, when one player left the mean increases by 0.5 kg. What is the weight of the player who left?\n",
    "\n",
    "**Solution:** Let the total weight of 11 initial players be $w_{1}$, and total weight of remaining 10 players (when 1 player left) is $w_{2}$. The original mean of 11 players be $\\mu_{original}$ and the mean of remaining 10 players be $\\mu_{new}$.\n",
    "\n",
    "$\\mu_{original} = \\frac{w_{1}}{11}$\n",
    "\n",
    "$w_{1} = \\mu_{original} * 11 = 60 * 11 = 660 kg$\n",
    "\n",
    "$\\mu_{new} = \\frac{w_{2}}{10}$\n",
    "\n",
    "$w_{2} = \\mu_{new} * 10 = (\\mu_{original} + 0.5) * 10 = 60.5 * 10 = 605 kg$\n",
    "\n",
    "Therefore, the weight of player that left $= w_{1} - w_{2} = 660 - 605 = 55 kg$"
   ]
  },
  {
   "cell_type": "markdown",
   "metadata": {},
   "source": [
    "# Questionnaire\n",
    "\n",
    "**Ques 01:** The average weight of 8 persons increased by 3kg when a person with 70kg is replaced by a new person? What is the new person's weight?   (Ans. 94kg)\n",
    "\n",
    "**Ques 02:** The average age of 12 persons is increased by 1 year when 2 men of 35 and 43 years were replaced by two women. What is the average age of two women?  (Ans. 45 years)\n",
    "\n",
    "**Ques 03:** The average of 10 numbers is calculated as 30. It is discovered later that one number is wrongly entered as 36 instead of 63. What is the actual average?  (Ans. 32.7)\n",
    "\n",
    "**Ques 04:** A group of 4 friends likes to bowl together, and each friend keeps track of his all-time highest score in a single game. Their high scores are all between 180 and 220, except for Adam, whose high score is 250. Adam then bowls a great game and has a new high score of 290. How will increasing Adam's high score affect the mean and median?"
   ]
  },
  {
   "cell_type": "markdown",
   "metadata": {},
   "source": [
    "{{ 'If you face any problem or have any feedback/suggestions feel free to comment.' | fndetail: 1}}"
   ]
  }
 ],
 "metadata": {
  "kernelspec": {
   "display_name": "Python 3",
   "language": "python",
   "name": "python3"
  },
  "language_info": {
   "codemirror_mode": {
    "name": "ipython",
    "version": 3
   },
   "file_extension": ".py",
   "mimetype": "text/x-python",
   "name": "python",
   "nbconvert_exporter": "python",
   "pygments_lexer": "ipython3",
   "version": "3.7.7"
  }
 },
 "nbformat": 4,
 "nbformat_minor": 4
}
