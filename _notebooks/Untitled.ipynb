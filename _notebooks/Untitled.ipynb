{
 "cells": [
  {
   "cell_type": "markdown",
   "metadata": {},
   "source": [
    "# Measure of Central Tendency: Grouped Data"
   ]
  },
  {
   "cell_type": "code",
   "execution_count": 3,
   "metadata": {},
   "outputs": [
    {
     "data": {
      "text/plain": [
       "1.75"
      ]
     },
     "execution_count": 3,
     "metadata": {},
     "output_type": "execute_result"
    }
   ],
   "source": [
    "(2 + 2 + 1 + 2) / 4"
   ]
  },
  {
   "cell_type": "markdown",
   "metadata": {},
   "source": [
    "# Mean\n",
    "\n",
    "* For ungrouped data, the mean is computed by summing the data values and dividing the number of observations.\n",
    "\n",
    "* With grouped data, the specific values are unknown. Look at the below table.\n",
    "\n",
    "|Class Interval|Frequency|\n",
    "|:-|-:|\n",
    "|1 under 3|4|\n",
    "|3 under 5|12|\n",
    "|5 under 7|13|\n",
    "|7 under 9|19|\n",
    "|9 under 11|7|\n",
    "|11 under 13|5|\n",
    "\n",
    "* For example, for the class interval *1 under 3* the frequency is 4, but we don't know what values are there in *1 under 3* class interval. So, what can be used to represent these data values?\n",
    "\n",
    "* Here, we use the midpoint of each class interval to represent all the values in a class interval. This midpoint is weighted by the frequency of values in a class interval.\n",
    "\n",
    "* The mean for grouped data is then computed by summing the products of the class midpoint and the class frequency for each class and dividing that sum by the total number of frequencies.\n",
    "\n",
    "* The formula for the mean of grouped data follows:\n",
    "    \n",
    "    * $\\mu = \\frac{\\Sigma f*M}{N} = \\frac{\\Sigma f*M}{f} = \\frac{f_{1}M_{1} + f_{2}M_{2} + ... + f_{i}M_{i}}{f_{1} + f_{2} + ... + f_{i}}$\n",
    "    \n",
    "    * where, $i$ = the number of classes, $f$ = class frequency, $N$ = total frequencies and $M_{i}$ = class-midpoint.\n",
    "    \n",
    "* So, let's find mean of the above dataset.\n",
    "\n",
    "|Class Interval|Frequency (f)|Class Midpoint (M)|f * M|\n",
    "|:-|-:|-:|-:|\n",
    "|1 under 3|4|2|8\n",
    "|3 under 5|12|4|48|\n",
    "|5 under 7|13|6|78|\n",
    "|7 under 9|19|8|152|\n",
    "|9 under 11|7|10|70|\n",
    "|11 under 13|5|12|60|\n",
    "|Total|N = 60|| Σ f*M = 416|\n",
    "\n",
    "* Here $\\mu = \\frac{\\Sigma f*M}{N} = \\frac{416}{60} = 6.93$\n",
    "\n",
    ">Note: Remember that because each class interval was represented by its class midpoint rather than by actual values, the group mean is only approximate."
   ]
  },
  {
   "cell_type": "markdown",
   "metadata": {},
   "source": [
    "# Median\n",
    "\n"
   ]
  }
 ],
 "metadata": {
  "kernelspec": {
   "display_name": "Python 3",
   "language": "python",
   "name": "python3"
  },
  "language_info": {
   "codemirror_mode": {
    "name": "ipython",
    "version": 3
   },
   "file_extension": ".py",
   "mimetype": "text/x-python",
   "name": "python",
   "nbconvert_exporter": "python",
   "pygments_lexer": "ipython3",
   "version": "3.7.7"
  }
 },
 "nbformat": 4,
 "nbformat_minor": 4
}
