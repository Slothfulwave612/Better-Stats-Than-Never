{
 "cells": [
  {
   "cell_type": "markdown",
   "metadata": {},
   "source": [
    "# \"Tutorial 04: Charts and Graphs\"\n",
    "> \"The basics of various charts and graphs\"\n",
    "\n",
    "- toc: true \n",
    "- badges: true\n",
    "- comments: true\n",
    "- categories: [basic-stats]\n",
    "- sticky_rank: 5\n",
    "- hide: true\n",
    "- search_exclude: true"
   ]
  },
  {
   "cell_type": "code",
   "execution_count": 1,
   "metadata": {},
   "outputs": [
    {
     "data": {
      "text/html": [
       "<style>\n",
       ".output {\n",
       "  margin-left:100px;\n",
       "}\n",
       "</style>"
      ],
      "text/plain": [
       "<IPython.core.display.HTML object>"
      ]
     },
     "execution_count": 1,
     "metadata": {},
     "output_type": "execute_result"
    }
   ],
   "source": [
    "#collapse-hide\n",
    "## required packages/modules\n",
    "import pandas as pd\n",
    "from IPython.display import display, HTML\n",
    "\n",
    "## format output\n",
    "CSS = \"\"\"\n",
    ".output {\n",
    "  margin-left:100px;\n",
    "}\n",
    "\"\"\"\n",
    "\n",
    "HTML('<style>{}</style>'.format(CSS))"
   ]
  },
  {
   "cell_type": "markdown",
   "metadata": {},
   "source": [
    "# Grouped and Ungrouped Data\n",
    "\n",
    "* We often describe data as *grouped* and *ungrouped*.\n",
    "\n",
    "* Raw data or data that have not been summarised in any way are called **ungrouped data**.\n",
    "\n",
    "* Example of **ungrouped data**: The below table contains test scores of a class.\n",
    "   \n",
    "    * Test scores: [85, 37, 56, 87, 75, 67, 58, 62, 77, 94, 95, 88]\n",
    "\n",
    "* Data that have been organized into a frequency distribution are called **grouped data**.\n",
    "\n",
    "* Example of **grouped data**: Frequency Distribution of 60 Years of Unemployment Data."
   ]
  },
  {
   "cell_type": "code",
   "execution_count": 8,
   "metadata": {},
   "outputs": [
    {
     "name": "stdout",
     "output_type": "stream",
     "text": [
      "Test Scores  Frequency\n",
      "      90—99          7\n",
      "      80—89          5\n",
      "      70—79         15\n",
      "      60—69          4\n",
      "      50—59          5\n",
      "      40—49          0\n",
      "      30—39          1\n",
      "      Total         37\n"
     ]
    }
   ],
   "source": [
    "#collapse-hide\n",
    "df = pd.DataFrame(\n",
    "    {\n",
    "        \"Test Scores\": [\n",
    "            \"90—99\", \"80—89\", \"70—79\", \"60—69\", \"50—59\", \"40—49\", \"30—39\", \"Total\"\n",
    "        ],\n",
    "        \n",
    "        \"Frequency\": [\n",
    "            7, 5, 15, 4, 5, 0, 1, 37\n",
    "        ]\n",
    "    }\n",
    ")\n",
    "\n",
    "print(df.to_string(index=False))"
   ]
  },
  {
   "cell_type": "markdown",
   "metadata": {},
   "source": [
    "# Frequency DIstribution\n",
    "\n"
   ]
  }
 ],
 "metadata": {
  "kernelspec": {
   "display_name": "Python 3",
   "language": "python",
   "name": "python3"
  },
  "language_info": {
   "codemirror_mode": {
    "name": "ipython",
    "version": 3
   },
   "file_extension": ".py",
   "mimetype": "text/x-python",
   "name": "python",
   "nbconvert_exporter": "python",
   "pygments_lexer": "ipython3",
   "version": "3.7.7"
  }
 },
 "nbformat": 4,
 "nbformat_minor": 4
}
