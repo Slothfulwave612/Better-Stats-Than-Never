{
 "cells": [
  {
   "cell_type": "markdown",
   "metadata": {},
   "source": [
    "# \"Tutorial 04: Charts and Graphs\"\n",
    "> \"The basics of various charts and graphs\"\n",
    "\n",
    "- toc: true \n",
    "- badges: true\n",
    "- comments: true\n",
    "- categories: [basic-stats]\n",
    "- sticky_rank: 5\n",
    "- hide: true\n",
    "- search_exclude: true"
   ]
  },
  {
   "cell_type": "code",
   "execution_count": 1,
   "metadata": {},
   "outputs": [
    {
     "data": {
      "text/html": [
       "<style>\n",
       ".output {\n",
       "  margin-left:100px;\n",
       "}\n",
       "</style>"
      ],
      "text/plain": [
       "<IPython.core.display.HTML object>"
      ]
     },
     "execution_count": 1,
     "metadata": {},
     "output_type": "execute_result"
    }
   ],
   "source": [
    "#collapse-hide\n",
    "## required packages/modules\n",
    "import pandas as pd\n",
    "from IPython.display import display, HTML\n",
    "\n",
    "## format output\n",
    "CSS = \"\"\"\n",
    ".output {\n",
    "  margin-left:100px;\n",
    "}\n",
    "\"\"\"\n",
    "\n",
    "HTML('<style>{}</style>'.format(CSS))"
   ]
  },
  {
   "cell_type": "code",
   "execution_count": 17,
   "metadata": {},
   "outputs": [
    {
     "data": {
      "text/html": [
       "<style>\n",
       "table {display: inline-block}\n",
       "</style>\n"
      ],
      "text/plain": [
       "<IPython.core.display.HTML object>"
      ]
     },
     "metadata": {},
     "output_type": "display_data"
    }
   ],
   "source": [
    "%%html\n",
    "<style>\n",
    "table {display: inline-block}\n",
    "</style>"
   ]
  },
  {
   "cell_type": "markdown",
   "metadata": {},
   "source": [
    "# Grouped and Ungrouped Data\n",
    "\n",
    "* We often describe data as *grouped* and *ungrouped*.\n",
    "\n",
    "* Raw data or data that have not been summarised in any way are called **ungrouped data**.\n",
    "\n",
    "* Example of **ungrouped data**: The below table contains 60 years of raw data of the unemployement rates.\n",
    "| 60 Years of Unemployment<br>&emsp;&nbsp;&emsp;&nbsp;&emsp;&nbsp;Rates|\n",
    "|-:|\n",
    "|2.3 &emsp;&nbsp; 7.0 &emsp;&nbsp; 6.3 &emsp;&nbsp; 11.3 &emsp;&nbsp; 9.6|\n",
    "|2.8 &emsp;&nbsp; 7.1 &emsp;&nbsp; 5.6 &emsp;&nbsp; 10.6 &emsp;&nbsp; 9.1|\n",
    "|3.6 &emsp;&nbsp; 5.9 &emsp;&nbsp; 5.4 &emsp;&nbsp; 9.7 &emsp;&nbsp; 8.3|\n",
    "|2.4 &emsp;&nbsp; 5.5 &emsp;&nbsp; 7.1 &emsp;&nbsp; 8.8 &emsp;&nbsp; 7.6|\n",
    "|2.9 &emsp;&nbsp; 4.7 &emsp;&nbsp; 7.1 &emsp;&nbsp; 7.8 &emsp;&nbsp; 6.8|\n",
    "|3.0 &emsp;&nbsp; 3.9 &emsp;&nbsp; 8.0 &emsp;&nbsp; 7.5 &emsp;&nbsp; 7.2|\n",
    "|4.6 &emsp;&nbsp; 3.6 &emsp;&nbsp; 8.4 &emsp;&nbsp; 8.1 &emsp;&nbsp; 7.7|\n",
    "|4.4 &emsp;&nbsp; 4.1 &emsp;&nbsp; 7.5 &emsp;&nbsp; 10.3 &emsp;&nbsp; 7.6|\n",
    "|3.4 &emsp;&nbsp; 4.8 &emsp;&nbsp; 7.5 &emsp;&nbsp; 11.2 &emsp;&nbsp; 7.2|\n",
    "|4.6 &emsp;&nbsp; 4.7 &emsp;&nbsp; 7.6 &emsp;&nbsp; 11.4 &emsp;&nbsp; 6.8|\n",
    "|6.9 &emsp;&nbsp; 5.9 &emsp;&nbsp; 11.0 &emsp;&nbsp; 10.4 &emsp;&nbsp; 6.3|\n",
    "|6.0 &emsp;&nbsp; 6.4 &emsp;&nbsp; 12.0 &emsp;&nbsp; 9.5 &emsp;&nbsp; 6.0|\n",
    "\n",
    "* Data that have been organized into a frequency distribution are called **grouped data**."
   ]
  }
 ],
 "metadata": {
  "kernelspec": {
   "display_name": "Python 3",
   "language": "python",
   "name": "python3"
  },
  "language_info": {
   "codemirror_mode": {
    "name": "ipython",
    "version": 3
   },
   "file_extension": ".py",
   "mimetype": "text/x-python",
   "name": "python",
   "nbconvert_exporter": "python",
   "pygments_lexer": "ipython3",
   "version": "3.7.7"
  }
 },
 "nbformat": 4,
 "nbformat_minor": 4
}
